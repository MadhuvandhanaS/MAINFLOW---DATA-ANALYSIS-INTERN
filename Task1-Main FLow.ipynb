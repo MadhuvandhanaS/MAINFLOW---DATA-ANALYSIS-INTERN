{
 "cells": [
  {
   "cell_type": "markdown",
   "id": "4a25e282-d527-4306-a94b-812dd11a041d",
   "metadata": {},
   "source": [
    "Main FLow Intern Task 1"
   ]
  },
  {
   "cell_type": "markdown",
   "id": "2d7c43f0-1211-48ec-a087-9bc2eb4fbccf",
   "metadata": {},
   "source": [
    "List Operations"
   ]
  },
  {
   "cell_type": "code",
   "execution_count": 20,
   "id": "c56c070d-a9c1-47cf-ac79-c2fa41a805c6",
   "metadata": {},
   "outputs": [
    {
     "name": "stdout",
     "output_type": "stream",
     "text": [
      "List created :  [12, 23, 36, 48, 60, 72, 84]\n",
      "Add Operation\n",
      "[12, 23, 36, 48, 60, 72, 84, 96]\n",
      "Remove Operation\n",
      "[12, 23, 36, 48, 60, 84, 96]\n",
      "Modify  Operation\n",
      "[12, 24, 36, 48, 60, 84, 96]\n"
     ]
    }
   ],
   "source": [
    "list=[12,23,36,48,60,72,84]\n",
    "print(\"List created : \",list)\n",
    "list.append(96)\n",
    "print(\"Add Operation\")\n",
    "print(list)\n",
    "list.remove(72)\n",
    "print(\"Remove Operation\")\n",
    "print(list)\n",
    "list[1]=24\n",
    "print(\"Modify  Operation\")\n",
    "print(list)\n"
   ]
  },
  {
   "cell_type": "markdown",
   "id": "1525f601-1e03-4da9-aabd-984f7b1ed352",
   "metadata": {},
   "source": [
    "Dictionary OPerations"
   ]
  },
  {
   "cell_type": "code",
   "execution_count": 19,
   "id": "6d283068-1344-4880-9857-985b65da55a6",
   "metadata": {},
   "outputs": [
    {
     "name": "stdout",
     "output_type": "stream",
     "text": [
      "Dictionary Creation\n",
      "{'Name': 'Madhu', 'Age': 19, 'mail': 'madhuvandhanas22cs@psnacet.edu.in', 'Gender': 'Female'}\n",
      "Addition Operation\n",
      "{'Name': 'Madhu', 'Age': 19, 'mail': 'madhuvandhanas22cs@psnacet.edu.in', 'Gender': 'Female', 'Qualification': 'CSE Student'}\n",
      "Remove Operation\n",
      "{'Name': 'Madhu', 'Age': 19, 'mail': 'madhuvandhanas22cs@psnacet.edu.in', 'Qualification': 'CSE Student'}\n",
      "Modify Operation\n",
      "{'Name': 'Madhuvandhanas', 'Age': 19, 'mail': 'madhuvandhanas22cs@psnacet.edu.in', 'Qualification': 'CSE Student'}\n"
     ]
    }
   ],
   "source": [
    "Dict={\"Name\":\"Madhu\",\"Age\":19,\"mail\":\"madhuvandhanas22cs@psnacet.edu.in\",\"Gender\":\"Female\"}\n",
    "print(\"Dictionary Creation\")\n",
    "print(Dict)\n",
    "Dict[\"Qualification\"]=\"CSE Student\"\n",
    "print(\"Addition Operation\")\n",
    "print(Dict)\n",
    "Dict.pop(\"Gender\")\n",
    "print(\"Remove Operation\")\n",
    "print(Dict)\n",
    "Dict[\"Name\"]=\"Madhuvandhanas\"\n",
    "print(\"Modify Operation\")\n",
    "print(Dict)\n"
   ]
  },
  {
   "cell_type": "markdown",
   "id": "61b7dd85-7dff-4356-bd0f-b28ade56ae30",
   "metadata": {},
   "source": [
    "Set Operations"
   ]
  },
  {
   "cell_type": "code",
   "execution_count": 24,
   "id": "6a84861c-1d41-4c4a-8adf-b5a1d8a08454",
   "metadata": {},
   "outputs": [
    {
     "name": "stdout",
     "output_type": "stream",
     "text": [
      "Set Creation\n",
      "{'Mango', 'Orange', 'Dragon', 'Banana'}\n",
      "Addition Operation\n",
      "{'Pomegranate', 'Orange', 'Mango', 'Banana', 'Dragon'}\n",
      "Remove Operation\n",
      "{'Pomegranate', 'Orange', 'Mango', 'Banana'}\n",
      "Modify Operation\n",
      "{'Pomegranate', 'Orange', 'Mango', 'Banana', 'Kiwi', 'Jack'}\n"
     ]
    }
   ],
   "source": [
    "set={\"Mango\",\"Banana\",\"Orange\",\"Dragon\"}\n",
    "print(\"Set Creation\")\n",
    "print(set)\n",
    "set.add(\"Pomegranate\")\n",
    "print(\"Addition Operation\")\n",
    "print(set)\n",
    "set.remove(\"Dragon\")\n",
    "print(\"Remove Operation\")\n",
    "print(set)\n",
    "set2={\"Kiwi\",\"Jack\"}\n",
    "set.update(set2)\n",
    "print(\"Modify Operation\")\n",
    "print(set)"
   ]
  },
  {
   "cell_type": "code",
   "execution_count": null,
   "id": "d93f5631-862f-4c56-aad8-e06afb126115",
   "metadata": {},
   "outputs": [],
   "source": []
  }
 ],
 "metadata": {
  "kernelspec": {
   "display_name": "Python 3 (ipykernel)",
   "language": "python",
   "name": "python3"
  },
  "language_info": {
   "codemirror_mode": {
    "name": "ipython",
    "version": 3
   },
   "file_extension": ".py",
   "mimetype": "text/x-python",
   "name": "python",
   "nbconvert_exporter": "python",
   "pygments_lexer": "ipython3",
   "version": "3.12.4"
  }
 },
 "nbformat": 4,
 "nbformat_minor": 5
}
